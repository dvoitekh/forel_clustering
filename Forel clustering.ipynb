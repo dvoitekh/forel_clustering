{
 "cells": [
  {
   "cell_type": "code",
   "execution_count": 59,
   "metadata": {
    "scrolled": false
   },
   "outputs": [],
   "source": [
    "import numpy as np\n",
    "import pandas as pd\n",
    "import matplotlib.pyplot as plt\n",
    "\n",
    "from matplotlib.pyplot import cm\n",
    "from sklearn.decomposition import PCA\n",
    "\n",
    "\n",
    "def distance(a, b):\n",
    "    return np.linalg.norm(a - b)\n",
    "\n",
    "\n",
    "def find_df_inside_sphere(df, center, R):\n",
    "    return df[df.apply(lambda x: distance(x, center) < R, axis=1)]\n",
    "\n",
    "\n",
    "def df_diff(df_a, df_b):\n",
    "    merged = df_a.merge(df_b, indicator=True, how='outer')\n",
    "    merged = merged[merged['_merge'] == 'left_only']\n",
    "    columns = [col for col in df_a.columns if not col == '_merge']\n",
    "    return merged[columns]\n",
    "\n",
    "\n",
    "def draw_pca_projection(dataset, labels):\n",
    "    pca = PCA(n_components=2)\n",
    "    transformed = pca.fit_transform(dataset)\n",
    "\n",
    "    colors = cm.rainbow(np.linspace(0, 1, len(labels)))\n",
    "\n",
    "    for labels_set, color in zip(labels, colors):\n",
    "        cluster = np.take(transformed, labels_set, axis=0)\n",
    "        plt.scatter(cluster[:, 0], cluster[:, 1], c=color)\n",
    "\n",
    "    plt.show()\n",
    "\n",
    "\n",
    "class ForelClusteringModel(object):\n",
    "    \"\"\"\n",
    "    Forel clustering. Unfortunately, only Russian wiki available: \n",
    "    https://ru.wikipedia.org/wiki/%D0%90%D0%BB%D0%B3%D0%BE%D1%80%D0%B8%D1%82%D0%BC%D1%8B_%D1%81%D0%B5%D0%BC%D0%B5%D0%B9%D1%81%D1%82%D0%B2%D0%B0_FOREL\n",
    "    \n",
    "    Arguments:\n",
    "    1) dataset - pandas dataset with numeric features\n",
    "    2) clusters_num - desired number of clusters\n",
    "    \n",
    "    Return value:\n",
    "    list of index arrays, each of them contains indices of elements that were placed into particular cluster\n",
    "    \n",
    "    Example:\n",
    "    input - ForelClusteringModel(pd.DataFrame({'a': [1, 2, 3, 4], 'b': [1, 2, 3, 4]}, 2)()\n",
    "    output - [[0, 1], [2, 3]]\n",
    "    \"\"\"\n",
    "    \n",
    "    def __init__(self, dataset, clusters_num):\n",
    "        minimum = dataset.min()\n",
    "        self.dataframe = (dataset - minimum) / (dataset.max() - minimum)\n",
    "        self.K = clusters_num\n",
    "        self.labels = []\n",
    "    \n",
    "    def __call__(self):\n",
    "        R = np.sqrt(len(self.dataframe)) / 2\n",
    "        df = self.dataframe.copy(deep=True)\n",
    "\n",
    "        while len(self.labels) < self.K or len(df) > 0:\n",
    "            if len(df) == 0:\n",
    "                self.labels = []\n",
    "                R -= (self.K + 1) * R / 10\n",
    "                df = self.dataframe.copy(deep=True)\n",
    "\n",
    "            center = df.sample()\n",
    "            cluster_df = find_df_inside_sphere(df, center, R)\n",
    "\n",
    "            while True:\n",
    "                center = cluster_df.mean()\n",
    "                new_cluster_df = find_df_inside_sphere(cluster_df, center, R)\n",
    "\n",
    "                if len(new_cluster_df) > 0 and len(df_diff(cluster_df, new_cluster_df)) == 0:\n",
    "                    self.labels.append(new_cluster_df.index)\n",
    "                    break\n",
    "                elif len(new_cluster_df) == 0:\n",
    "                    break\n",
    "\n",
    "                cluster_df = new_cluster_df\n",
    "\n",
    "            if len(new_cluster_df) > 0:\n",
    "                df = df_diff(df, new_cluster_df)\n",
    "        \n",
    "        return self.labels"
   ]
  },
  {
   "cell_type": "code",
   "execution_count": 67,
   "metadata": {},
   "outputs": [
    {
     "name": "stdout",
     "output_type": "stream",
     "text": [
      "labels: [[0, 1, 2, 3, 4, 5], [6, 7, 8]]\n"
     ]
    },
    {
     "data": {
      "image/png": "[encoded data removed]",
      "text/plain": [
       "<matplotlib.figure.Figure at 0x10d4f10f0>"
      ]
     },
     "metadata": {},
     "output_type": "display_data"
    }
   ],
   "source": [
    "dataset = pd.DataFrame({'x1': [1, 5, 12, 23, 34, 53, 66, 69, 78], \n",
    "                        'x2': [88, 77, 66, 56, 43, 34, 31, 23, 22],\n",
    "                        'x3': [11, 32, 34, 45, 48, 65, 77, 88, 96]})\n",
    "\n",
    "model = ForelClusteringModel(dataset, 2)\n",
    "labels = model()\n",
    "print('labels:', [list(x) for x in labels])\n",
    "draw_pca_projection(dataset, labels)"
   ]
  },
  {
   "cell_type": "code",
   "execution_count": 68,
   "metadata": {},
   "outputs": [
    {
     "name": "stdout",
     "output_type": "stream",
     "text": [
      "labels: [[5, 6, 7, 8], [0, 1, 2], [3, 4]]\n"
     ]
    },
    {
     "data": {
      "image/png": "[encoded data removed]",
      "text/plain": [
       "<matplotlib.figure.Figure at 0x10df2a320>"
      ]
     },
     "metadata": {},
     "output_type": "display_data"
    }
   ],
   "source": [
    "model = ForelClusteringModel(dataset, 3)\n",
    "labels = model()\n",
    "print('labels:', [list(x) for x in labels])\n",
    "draw_pca_projection(dataset, labels)"
   ]
  },
  {
   "cell_type": "code",
   "execution_count": null,
   "metadata": {},
   "outputs": [],
   "source": []
  }
 ],
 "metadata": {
  "kernelspec": {
   "display_name": "Python 3",
   "language": "python",
   "name": "python3"
  },
  "language_info": {
   "codemirror_mode": {
    "name": "ipython",
    "version": 3
   },
   "file_extension": ".py",
   "mimetype": "text/x-python",
   "name": "python",
   "nbconvert_exporter": "python",
   "pygments_lexer": "ipython3",
   "version": "3.6.2"
  }
 },
 "nbformat": 4,
 "nbformat_minor": 2
}
